{
 "cells": [
  {
   "cell_type": "code",
   "execution_count": 1,
   "metadata": {},
   "outputs": [],
   "source": [
    "import os\n",
    "\n",
    "def detect():\n",
    "    \n",
    "    rumor = []\n",
    "    non_rumour = []\n",
    "    path = \"pheme-rnr-dataset\" #文件夹目录\n",
    "    topic= os.listdir(path)\n",
    "    \n",
    "    for i in topic:\n",
    "        if i != '.DS_Store':  \n",
    "            for j in os.listdir('pheme-rnr-dataset/'+i):\n",
    "                if j == 'rumours':\n",
    "                    topic_path = 'pheme-rnr-dataset/' + i+'/rumours'\n",
    "                    id = os.listdir(topic_path)                   \n",
    "                    rumor = rumor + id\n",
    "                else:\n",
    "                    topic_path = 'pheme-rnr-dataset/' + i+'/non-rumours'\n",
    "                    id = os.listdir(topic_path)\n",
    "                    non_rumour = non_rumour + id\n",
    "            \n",
    "    return rumor, non_rumour"
   ]
  },
  {
   "cell_type": "code",
   "execution_count": 2,
   "metadata": {},
   "outputs": [],
   "source": [
    "rumor, non_rumour = detect()"
   ]
  },
  {
   "cell_type": "code",
   "execution_count": 3,
   "metadata": {},
   "outputs": [],
   "source": [
    "get_dict = {}\n",
    "for i in rumor:\n",
    "    get_dict[i] = 'rumour'\n",
    "for i in non_rumour:\n",
    "    get_dict[i] = 'non-rumour'"
   ]
  },
  {
   "cell_type": "code",
   "execution_count": null,
   "metadata": {},
   "outputs": [],
   "source": []
  }
 ],
 "metadata": {
  "kernelspec": {
   "display_name": "Python 3",
   "language": "python",
   "name": "python3"
  },
  "language_info": {
   "codemirror_mode": {
    "name": "ipython",
    "version": 3
   },
   "file_extension": ".py",
   "mimetype": "text/x-python",
   "name": "python",
   "nbconvert_exporter": "python",
   "pygments_lexer": "ipython3",
   "version": "3.7.4"
  }
 },
 "nbformat": 4,
 "nbformat_minor": 2
}
